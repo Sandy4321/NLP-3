{
 "cells": [
  {
   "cell_type": "code",
   "execution_count": 83,
   "metadata": {},
   "outputs": [],
   "source": [
    "import tweepy\n",
    "import nltk\n",
    "import pandas as pd\n",
    "import emoji"
   ]
  },
  {
   "cell_type": "code",
   "execution_count": 84,
   "metadata": {},
   "outputs": [],
   "source": [
    "# Get Bearer Token\n",
    "filepath = '../api.key.json'\n",
    "keys = pd.read_json(filepath, typ='series')\n",
    "auth = tweepy.OAuth2BearerHandler(keys['BEARER_TOKEN'])\n",
    "api = tweepy.API(auth)"
   ]
  },
  {
   "cell_type": "code",
   "execution_count": 85,
   "metadata": {},
   "outputs": [
    {
     "name": "stdout",
     "output_type": "stream",
     "text": [
      "(500, 4)\n"
     ]
    }
   ],
   "source": [
    "# iterate over multiple pages of results\n",
    "max_items = 500\n",
    "emotions = ['joy', 'fear', 'sadness', 'anger']\n",
    "\n",
    "dataset = []\n",
    "for status in tweepy.Cursor(api.search_tweets, \"#happiness\",count=100).items(max_items):\n",
    "    json_str = status._json\n",
    "    timestamp = pd.to_datetime(json_str['created_at']).strftime('%Y-%m-%d %H:%M:%S')\n",
    "    text, hashtags, symbols = json_str['text'], json_str['entities']['hashtags'], json_str['entities']['symbols']\n",
    "    dataset.append((timestamp, text, hashtags, symbols))\n",
    "\n",
    "df = pd.DataFrame(dataset, columns=['CreatedAt', 'Text', 'Hashtags','Symbols'])\n",
    "\n",
    "print(df.shape)"
   ]
  },
  {
   "cell_type": "code",
   "execution_count": 86,
   "metadata": {},
   "outputs": [],
   "source": [
    "from nltk.tokenize import TweetTokenizer\n",
    "from collections import Counter\n",
    "\n",
    "# tokenizer = TreebankWordTokenizer()\n",
    "tokenizer = TweetTokenizer(strip_handles=True)\n",
    "tokens = df['Text'].apply(tokenizer.tokenize)\n",
    "\n",
    "counter = Counter([token for token_lists in tokens.values for token in token_lists])\n",
    "counter.most_common(n=20)"
   ]
  }
 ],
 "metadata": {
  "interpreter": {
   "hash": "557e8017941bd19fb6ffbcb9ac4042c9ef1a05ad323f01a83b04aa091443d0a7"
  },
  "kernelspec": {
   "display_name": "Python 3.9.7 ('nlp-emotion-recognition')",
   "language": "python",
   "name": "python3"
  },
  "language_info": {
   "codemirror_mode": {
    "name": "ipython",
    "version": 3
   },
   "file_extension": ".py",
   "mimetype": "text/x-python",
   "name": "python",
   "nbconvert_exporter": "python",
   "pygments_lexer": "ipython3",
   "version": "3.9.7"
  },
  "orig_nbformat": 4
 },
 "nbformat": 4,
 "nbformat_minor": 2
}
